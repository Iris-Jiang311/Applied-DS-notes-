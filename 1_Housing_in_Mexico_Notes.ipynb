{
  "nbformat": 4,
  "nbformat_minor": 0,
  "metadata": {
    "colab": {
      "provenance": [],
      "collapsed_sections": [
        "fUDBbeakGF3G"
      ]
    },
    "kernelspec": {
      "name": "python3",
      "display_name": "Python 3"
    },
    "language_info": {
      "name": "python"
    }
  },
  "cells": [
    {
      "cell_type": "markdown",
      "source": [
        "# Project Learn\n",
        "\n",
        "*   Organize information using basic Python Structures\n",
        "*   Import data from CSV file and clean it using `pandas` library\n",
        "*   Create dta visualization : scatter and box plots\n",
        "*   Use correlation to examine the relationship between two variables\n",
        "\n",
        "\n",
        "\n",
        "\n",
        "\n",
        "\n",
        "\n"
      ],
      "metadata": {
        "id": "8IIjnjJdSkzN"
      }
    },
    {
      "cell_type": "markdown",
      "source": [
        "# Appending to Lists\n",
        "\n",
        "\n",
        "\n"
      ],
      "metadata": {
        "id": "In8pYPJDTmhr"
      }
    },
    {
      "cell_type": "markdown",
      "source": [
        "*   Appending Items\n",
        "\n",
        "    *   add an item to a list that already exists using the `append` method.\n"
      ],
      "metadata": {
        "id": "Ikj3BBy2mXcC"
      }
    },
    {
      "cell_type": "code",
      "source": [
        "price_usd.append(599)"
      ],
      "metadata": {
        "id": "C5G9CANjSvFs"
      },
      "execution_count": null,
      "outputs": []
    },
    {
      "cell_type": "markdown",
      "source": [
        "# Zipping Items\n",
        "\n",
        "\n",
        "    \n",
        "\n",
        "\n",
        "   \n",
        "\n",
        "\n"
      ],
      "metadata": {
        "id": "Ll6YJTsHURCb"
      }
    },
    {
      "cell_type": "markdown",
      "source": [
        "\n",
        "*   To combine / or zip two lists together\n",
        "     *   Use `zip` method\n",
        "        *   create a new list that pairs the values in our price_usd list with our area_m2 list.\n",
        "        *put one list inside another list, use `list`"
      ],
      "metadata": {
        "id": "KJNsn_z2mUHJ"
      }
    },
    {
      "cell_type": "code",
      "source": [
        "new_list = zip(price_usd, area_m2)\n",
        "zipped_list = list(new_list)"
      ],
      "metadata": {
        "id": "Kwkr26WEU9jZ"
      },
      "execution_count": null,
      "outputs": []
    },
    {
      "cell_type": "markdown",
      "source": [
        "# Pandas Previes\n",
        "\n",
        "\n"
      ],
      "metadata": {
        "id": "Pfwin4YcVirO"
      }
    },
    {
      "cell_type": "markdown",
      "source": [
        "* Import pandas library\n",
        "* DataFrame\n",
        "* Print object type\n",
        "* Print shape"
      ],
      "metadata": {
        "id": "7usPpc7QmKv0"
      }
    },
    {
      "cell_type": "code",
      "source": [
        "# Import pandas library, aliased as `pd`\n",
        "import pandas as pd\n",
        "\n",
        "# Declare variable `df_houses`\n",
        "df_houses = pd.DataFrame(houses_columnwise)\n",
        "\n",
        "# Print `df_houses` object type\n",
        "print(\"df_houses type:\", type(df_houses))\n",
        "\n",
        "#df_houses type: <class 'pandas.core.frame.DataFrame'>\n",
        "\n",
        "# Print `df_houses` shape\n",
        "print(\"df_houses shape:\", df_houses.shape)\n",
        "#df_houses shape: (5, 4)\n",
        "\n",
        "\n",
        "# Get output of `df_houses`\n",
        "df_houses"
      ],
      "metadata": {
        "id": "yT64UAOwCfJh"
      },
      "execution_count": null,
      "outputs": []
    },
    {
      "cell_type": "markdown",
      "source": [
        "# Importing CSV Files\n",
        "\n"
      ],
      "metadata": {
        "id": "7CfV1KicDmUD"
      }
    },
    {
      "cell_type": "markdown",
      "source": [
        "* use`pd`as an *alias*\n",
        "* use the`read_csv`method to create a DataFrame from a CSV file"
      ],
      "metadata": {
        "id": "-y40B8jLmDuV"
      }
    },
    {
      "cell_type": "code",
      "source": [
        "import pandas as pd\n",
        "\n",
        "df = pd.read_csv(\"data/colombia-real-estate-1.csv\")\n",
        "df.head()"
      ],
      "metadata": {
        "id": "WXgYaJ3mEluF"
      },
      "execution_count": null,
      "outputs": []
    },
    {
      "cell_type": "markdown",
      "source": [
        "# Inspecting a DataFrame using the shape, info and head in pandas\n"
      ],
      "metadata": {
        "id": "T08sR406EqMI"
      }
    },
    {
      "cell_type": "markdown",
      "source": [
        "* use the `df.shape` method:\n",
        "    * understanding the dimensionality of the DataFrame\n",
        "* use the `info` method:\n",
        "    * tells us all sorts of things about the DataFrame\n",
        "* use `print`:\n",
        "    *  see all the rows in our new DataFrame\n",
        "* using the `head` method:\n",
        "    * take a look at the first five rows"
      ],
      "metadata": {
        "id": "bHzjb2qtl_xN"
      }
    },
    {
      "cell_type": "code",
      "source": [
        "# understanding the dimensionality of the DataFrame\n",
        "df.shape\n",
        "\n",
        "# get a general idea of what the DataFrame contained\n",
        "df.info()\n",
        "\n",
        "# take a look at the first five rows\n",
        "df.head()"
      ],
      "metadata": {
        "id": "JtBpqzj_Fs2d"
      },
      "execution_count": null,
      "outputs": []
    },
    {
      "cell_type": "markdown",
      "source": [
        "#  Clean DataFrame\n"
      ],
      "metadata": {
        "id": "fUDBbeakGF3G"
      }
    },
    {
      "cell_type": "markdown",
      "source": [
        "* Drop rows with missing values from a DataFrame using pandas.\n",
        "  * use the `dropna` method:\n",
        "    * drop rows with empty cells\n",
        "    * use `inplace = True`:\n",
        "      * want the original DataFrame updated without making a copy.\n",
        "    * use `inplace=False`:\n",
        "      * pandas will revert to default values"
      ],
      "metadata": {
        "id": "Cala3Shcl5aH"
      }
    },
    {
      "cell_type": "code",
      "source": [
        "print(\"df shape before dropping rows\", df.shape)\n",
        "df.dropna(inplace=True)\n",
        "print(\"df shape after dropping rows\", df.shape)\n",
        "df.head()"
      ],
      "metadata": {
        "id": "j6XfwhZYHB5F"
      },
      "execution_count": null,
      "outputs": []
    },
    {
      "cell_type": "markdown",
      "source": [
        "\n",
        "\n",
        "*   Replace string characters in a column using pandas.\n",
        "    *   recasting:\n",
        "        * using the `astype` method: recast the whole data frame\n",
        "        * using the `astype()` method: only recast individual columns\n",
        "\n"
      ],
      "metadata": {
        "id": "1W8l127pkCfR"
      }
    },
    {
      "cell_type": "code",
      "source": [
        "# recast the whold data frame\n",
        "print(df.info())\n",
        "newdf = df.astype(\"str\")\n",
        "print(newdf.info())\n",
        "\n",
        "# only recast individual columns\n",
        "df[\"area_m2\"] = df.area_m2.astype(int)\n"
      ],
      "metadata": {
        "id": "UEZfbMN1knqh"
      },
      "execution_count": null,
      "outputs": []
    },
    {
      "cell_type": "markdown",
      "source": [
        "\n",
        "\n",
        "\n",
        "*   Create new columns derived from existing columns in a DataFrame using pandas\n",
        "*   Drop a column from a DataFrame using pandas:\n",
        "    * use the `drop` method:\n",
        "      * drop a column by setting the `axis` argument to `columns`\n",
        "      * drop a row by setting the `axis` argument to `index` , drop row 2\n",
        "\n"
      ],
      "metadata": {
        "id": "_pOKXZ9Lky7R"
      }
    },
    {
      "cell_type": "code",
      "source": [
        "# Create new columns derived from existing columns\n",
        "df3[\"price_m2\"] = df3[\"price_usd\"] / df3[\"area_m2\"]\n",
        "\n",
        "# drop a column\n",
        "df2 = df.drop(columns=[\"price_mxn\"], inplace = True)\n",
        "\n",
        "# drop row 2\n",
        "df2 = df.drop(2, axis=\"index\")"
      ],
      "metadata": {
        "id": "Hbob0V1RleCb"
      },
      "execution_count": null,
      "outputs": []
    },
    {
      "cell_type": "markdown",
      "source": [
        "\n",
        "\n",
        "*   Split the strings in one column to create another using pandas.\n",
        "    *   use the `.str.split` method:\n",
        "        * `expand`: telling pandas to make the DataFrame bigger\n",
        "          * to create a new column without dropping any of the ones that already exist.\n",
        "\n"
      ],
      "metadata": {
        "id": "SjZ2rZq4mZUv"
      }
    },
    {
      "cell_type": "code",
      "source": [
        "df3[[\"lat\", \"lon\"]] = df3[\"lat-lon\"].str.split(\",\", expand=True)"
      ],
      "metadata": {
        "id": "DRSgDsiFm6sC"
      },
      "execution_count": null,
      "outputs": []
    },
    {
      "cell_type": "markdown",
      "source": [
        "\n",
        "\n",
        "*   Concatenate DataFrames\n",
        "  *   use the `concat` method:\n",
        "      * to put our DataFrames together, using each DataFrame's name in a list\n",
        "      \n",
        "\n"
      ],
      "metadata": {
        "id": "r5GqVmpKoWQF"
      }
    },
    {
      "cell_type": "code",
      "source": [
        "# Concatenate df1, df2, and df3\n",
        "df = pd.concat([df1,df2,df3])"
      ],
      "metadata": {
        "id": "NToH_0zXolrc"
      },
      "execution_count": null,
      "outputs": []
    },
    {
      "cell_type": "markdown",
      "source": [
        "\n",
        "\n",
        "*   Saving a DataFrame as a CSV\n",
        "    *   using the `to_csv` method:\n",
        "        * setting the `index` argument to `False`:\n",
        "            * the DataFrame index isn't included in the CSV file.\n",
        "\n"
      ],
      "metadata": {
        "id": "PWwK6C9xonia"
      }
    },
    {
      "cell_type": "code",
      "source": [
        "df.to_csv(\"data/small-df.csv\", index=False)"
      ],
      "metadata": {
        "id": "8UQGQl2kpDPz"
      },
      "execution_count": null,
      "outputs": []
    },
    {
      "cell_type": "markdown",
      "source": [
        "# Exploratory Data Analysis"
      ],
      "metadata": {
        "id": "4XJ2_D4npKTu"
      }
    },
    {
      "cell_type": "markdown",
      "source": [
        "\n",
        "\n",
        "*   **Scatter Mapbox Plot**\n",
        "    *   uses dots to represent values for two different numeric variables.\n",
        "    *   Finding correlations between variables\n",
        "    *   use the `usecols` argument to import columns from csv file\n",
        "\n",
        "\n"
      ],
      "metadata": {
        "id": "1Xxf-C1zpPyx"
      }
    },
    {
      "cell_type": "code",
      "source": [
        "import matplotlib.pyplot as plt\n",
        "import pandas as pd\n",
        "import plotly.express as px\n",
        "\n",
        "df1 = pd.read_csv(\"data/colombia-real-estate-3.csv\", usecols=[\"area_m2\", \"price_usd\"])\n",
        "plt.scatter(df1[\"area_m2\"], df1[\"price_usd\"], color=\"r\")\n",
        "plt.xlabel(\"Property Area\")\n",
        "plt.ylabel(\"Price in US Dollars\")\n",
        "plt.title(\"Property Area vs Price in US Dollars\");"
      ],
      "metadata": {
        "id": "3WFWbWqQpNfc"
      },
      "execution_count": null,
      "outputs": []
    },
    {
      "cell_type": "markdown",
      "source": [
        "\n",
        "\n",
        "*   **Series**\n",
        "    *   Aggregate data in a Series using `value_counts` in pandas\n",
        "\n"
      ],
      "metadata": {
        "id": "icd8K001Id7R"
      }
    },
    {
      "cell_type": "code",
      "source": [
        "import pandas as pd\n",
        "df2 = pd.read_csv(\"data/colombia-real-estate-2.csv\")\n",
        "df2[\"department\"].value_counts()"
      ],
      "metadata": {
        "id": "9vrl7_xKI0_h"
      },
      "execution_count": null,
      "outputs": []
    },
    {
      "cell_type": "markdown",
      "source": [
        "\n",
        "\n",
        "*   **Histogram of Area**\n",
        "    *   Display **frequency** distribution of numerical data\n",
        "    *   useful for detecting outliers\n",
        "    *   Create a histogram using Matplotlib\n",
        "\n"
      ],
      "metadata": {
        "id": "sy-axMfoI2JQ"
      }
    },
    {
      "cell_type": "code",
      "source": [
        "import matplotlib.pyplot as plt\n",
        "import pandas as pd\n",
        "\n",
        "\n",
        "df = pd.read_csv(\"data/colombia-real-estate-1.csv\", usecols=[\"area_m2\"])\n",
        "plt.hist(df, bins=10, rwidth=0.9, color=\"b\")\n",
        "plt.title(\"The Area of Real Estate in Colombia\")\n",
        "plt.xlabel(\"Property Area\")\n",
        "plt.ylabel(\"Number of Properties\")\n",
        "plt.grid(axis=\"y\", alpha=0.75);"
      ],
      "metadata": {
        "id": "cx0Rp8ECJUNw"
      },
      "execution_count": null,
      "outputs": []
    },
    {
      "cell_type": "markdown",
      "source": [
        "\n",
        "\n",
        "*   **Boxplot of Area**\n",
        "    *   Components of a Boxplot:\n",
        "        * **Box**: The main part of the plot, which includes the interquartile range (IQR)\n",
        "            * minumum\n",
        "            * first quartile\n",
        "            * median\n",
        "            * third quartile\n",
        "            * maximum\n",
        "        * **Whiskers**:\n",
        "          * Lines extending from the box to the minimum and maximum values within 1.5 times the IQR from the first and third quartiles, respectively.\n",
        "        * **Outliers**:\n",
        "          * Data points that fall outside the range of the whiskers.\n",
        "          * These are often plotted as individual points.\n",
        "    * These sections are called intervals, and the three lines that divide them are called quartiles\n",
        "        * Each interval contains 25% of the observations in the data set.\n",
        "          *  the box created by the first and third quartiles represents the middle 50% of observations.\n",
        "    * Part of the purpose of making a boxplot is to find these outliers and discard them in future analyses.\n",
        "\n"
      ],
      "metadata": {
        "id": "jFGM6jBCJbGL"
      }
    },
    {
      "cell_type": "code",
      "source": [
        "import matplotlib.pyplot as plt\n",
        "import pandas as pd\n",
        "\n",
        "df = pd.read_csv(\"data/colombia-real-estate-1.csv\", usecols=[\"area_m2\"])\n",
        "plt.boxplot(df[\"area_m2\"])\n",
        "plt.ylabel(\"Area [sq. meters]\")\n",
        "plt.title(\"Area in Square Meters\");"
      ],
      "metadata": {
        "id": "seKU3sjZMFqI"
      },
      "execution_count": null,
      "outputs": []
    },
    {
      "cell_type": "markdown",
      "source": [
        "\n",
        "\n",
        "*   normal distribution  (bell curve)\n",
        "    * All other things being equal, we expect most outcomes to fall in the middle of the possible range\n",
        "    * with a smaller number of outcomes on either side of the peak.\n",
        "\n",
        "*   skewed distribution\n",
        "    * the peak of the curve is shifted, or skewed, either to the right or the left of the distribution\n",
        "\n"
      ],
      "metadata": {
        "id": "teGudndyMOV6"
      }
    },
    {
      "cell_type": "markdown",
      "source": [
        "# Group by State\n",
        "\n",
        "\n"
      ],
      "metadata": {
        "id": "ds1ajBynMsbw"
      }
    },
    {
      "cell_type": "markdown",
      "source": [
        "\n",
        "\n",
        "\n",
        "*   Aggregate data using the `groupby` method in pandas\n",
        "*   use the `get_group` method:\n",
        "      * to see the properties in just one of the group\n",
        "*   use the `groupby` method:\n",
        "    * Create groups based on multiple categories\n",
        "*   use the `.mean()` method:\n",
        "    * find the average property area in each department\n",
        "\n",
        "\n",
        "\n",
        "\n",
        "\n"
      ],
      "metadata": {
        "id": "E-uzbbhrMxdW"
      }
    },
    {
      "cell_type": "code",
      "source": [
        "# use the groupby method:\n",
        "df1=pd.read_csv(\"data/colombia-real-estate-1.csv\")\n",
        "dept_group = df1.groupby(\"department\")\n",
        "\n",
        "# use the get_group method:\n",
        "dept_group1 = df1.groupby(\"department\")\n",
        "dept_group1.get_group(\"Santander\")\n",
        "\n",
        "# use groupby to calculate aggregations:\n",
        "dept_group = df1.groupby(\"department\")[\"area_m2\"].mean()\n"
      ],
      "metadata": {
        "id": "7dEQXyVlNYdH"
      },
      "execution_count": null,
      "outputs": []
    },
    {
      "cell_type": "markdown",
      "source": [
        "# Create a bar chart using pandas"
      ],
      "metadata": {
        "id": "MNjKtI8nNyDV"
      }
    },
    {
      "cell_type": "markdown",
      "source": [
        "\n",
        "\n",
        "*   showing all the values of the categorical variables in the dataset\n",
        "*   consist of an axis and a series of labeled horizontal or vertical bars.\n",
        "*   Plots the frequency of different values of a variable or simply the values themselves\n",
        "*   y-axis of a vertical bar chart or the x-axis of a horizontal bar chart are called the scale.\n",
        "\n"
      ],
      "metadata": {
        "id": "5CV7ydPspyC7"
      }
    },
    {
      "cell_type": "code",
      "source": [
        "# Create bar chart from `mean_price_by_state` using pandas\n",
        "\n",
        "mean_price_by_state.plot(\n",
        "    kind = \"bar\",\n",
        "    xlabel=\"State\",\n",
        "    ylabel=\"Price [USD]\",\n",
        "    title= \"Mean House Price by State\"\n",
        ")"
      ],
      "metadata": {
        "id": "baPcWozgpxQU"
      },
      "execution_count": null,
      "outputs": []
    },
    {
      "cell_type": "markdown",
      "source": [
        "# Correlation\n"
      ],
      "metadata": {
        "id": "qMKwb0Bmqj3D"
      }
    },
    {
      "cell_type": "markdown",
      "source": [
        "\n",
        "\n",
        "*   the relationship between two sets of data\n",
        "*   calculate the relationship, the result is a correlation coefficient\n",
        "    * Any value between -1 and 1\n",
        "    * Values **greater than 0 **indicate a **positive correlation**\n",
        "    * Values **below 0** indicate a **negative relationship**\n",
        "    * The closer the coefficient value is to 1 or -1:\n",
        "      * the stronger the correlation is;\n",
        "    * the closer the coefficient value is to 0:\n",
        "      * the weaker the relationship is.\n",
        "*   use the `Series.corr` method to figure out correlation coefficient\n",
        "\n",
        "\n"
      ],
      "metadata": {
        "id": "qcblxFAKqm5Y"
      }
    },
    {
      "cell_type": "code",
      "source": [
        "area_m2 = df2[\"area_m2\"]\n",
        "price_cop = df2[\"price_cop\"]\n",
        "correlation = area_m2.corr(price_cop)\n",
        "print(correlation)"
      ],
      "metadata": {
        "id": "-pckUqcFqmIM"
      },
      "execution_count": null,
      "outputs": []
    },
    {
      "cell_type": "markdown",
      "source": [
        "# Subsets\n"
      ],
      "metadata": {
        "id": "POJmBUwkrfQg"
      }
    },
    {
      "cell_type": "markdown",
      "source": [
        "\n",
        "\n",
        "*   Subset a DataFrame with a mask using pandas\n",
        "  *   Another way to create subsets from a larger dataset is through masking\n",
        "      * to filter out the data you're not interested in so that you can focus on the data you are\n",
        "  * `mask` is a Series of Boolean values\n",
        "\n"
      ],
      "metadata": {
        "id": "G6jE-XOJrihG"
      }
    },
    {
      "cell_type": "code",
      "source": [
        "import pandas as pd\n",
        "df1 = pd.read_csv(\"data/colombia-real-estate-1.csv\")\n",
        "mask = df1[\"area_m2\"] > 200\n",
        "mask.head()\n",
        "\n",
        "df1[mask].head()"
      ],
      "metadata": {
        "id": "vE7brd8Erhfj"
      },
      "execution_count": null,
      "outputs": []
    }
  ]
}